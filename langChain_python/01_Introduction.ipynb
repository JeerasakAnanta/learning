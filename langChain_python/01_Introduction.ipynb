{
 "cells": [
  {
   "cell_type": "markdown",
   "id": "b12db101",
   "metadata": {},
   "source": [
    "- Introduction"
   ]
  },
  {
   "cell_type": "markdown",
   "id": "4ad56720",
   "metadata": {},
   "source": [
    "https://python.langchain.com/docs/introduction/"
   ]
  },
  {
   "cell_type": "code",
   "execution_count": 12,
   "id": "5c7b428a",
   "metadata": {},
   "outputs": [],
   "source": [
    "import os\n",
    "import dotenv  \n",
    "\n",
    "from dotenv import load_dotenv \n",
    "\n",
    "load_dotenv('.env')\n",
    "OPENAI_API_KEY = os.getenv(\"OPENAI_API_KEY\") "
   ]
  },
  {
   "cell_type": "code",
   "execution_count": null,
   "id": "878bf83c",
   "metadata": {},
   "outputs": [],
   "source": [
    "from langchain.chat_models import init_chat_model\n",
    "\n",
    "model = init_chat_model(\"gpt-4o-mini\", model_provider=\"openai\")"
   ]
  },
  {
   "cell_type": "code",
   "execution_count": 17,
   "id": "5217c6d4",
   "metadata": {},
   "outputs": [
    {
     "data": {
      "text/plain": [
       "AIMessage(content='สวัสดีค่ะ! ท่านต้องการให้ช่วยอะไรบ้างคะ?', additional_kwargs={'refusal': None}, response_metadata={'token_usage': {'completion_tokens': 18, 'prompt_tokens': 13, 'total_tokens': 31, 'completion_tokens_details': {'accepted_prediction_tokens': 0, 'audio_tokens': 0, 'reasoning_tokens': 0, 'rejected_prediction_tokens': 0}, 'prompt_tokens_details': {'audio_tokens': 0, 'cached_tokens': 0}}, 'model_name': 'gpt-4o-mini-2024-07-18', 'system_fingerprint': 'fp_54eb4bd693', 'id': 'chatcmpl-BaKGfog5ThO11pp59o19Ib9OEW32h', 'service_tier': 'default', 'finish_reason': 'stop', 'logprobs': None}, id='run--708003cd-275e-4e7e-8db7-ead18befe423-0', usage_metadata={'input_tokens': 13, 'output_tokens': 18, 'total_tokens': 31, 'input_token_details': {'audio': 0, 'cache_read': 0}, 'output_token_details': {'audio': 0, 'reasoning': 0}})"
      ]
     },
     "execution_count": 17,
     "metadata": {},
     "output_type": "execute_result"
    }
   ],
   "source": [
    "# call  model \n",
    "model.invoke(\"Hello, in  Thai!\")"
   ]
  }
 ],
 "metadata": {
  "kernelspec": {
   "display_name": ".venv",
   "language": "python",
   "name": "python3"
  },
  "language_info": {
   "codemirror_mode": {
    "name": "ipython",
    "version": 3
   },
   "file_extension": ".py",
   "mimetype": "text/x-python",
   "name": "python",
   "nbconvert_exporter": "python",
   "pygments_lexer": "ipython3",
   "version": "3.13.1"
  }
 },
 "nbformat": 4,
 "nbformat_minor": 5
}
