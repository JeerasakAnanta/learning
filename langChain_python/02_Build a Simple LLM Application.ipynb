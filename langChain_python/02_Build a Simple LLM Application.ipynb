{
 "cells": [
  {
   "cell_type": "markdown",
   "id": "0ccf60d7",
   "metadata": {},
   "source": [
    "  build a simple llm  application  with chat models  sand porpmt templates "
   ]
  },
  {
   "cell_type": "markdown",
   "id": "ec4061ec",
   "metadata": {},
   "source": [
    "-  in this quickstart  we'll show you how to bujld a simple llm app with lagnChain. \n",
    "-  This application with translate text from   in to  \n",
    "- using`language model`\n",
    "- using `prompt templates`  \n",
    "- debuggin and traching  my llm app  `LangSmith`"
   ]
  },
  {
   "cell_type": "code",
   "execution_count": null,
   "id": "b5c071f6",
   "metadata": {},
   "outputs": [
    {
     "data": {
      "text/plain": [
       "True"
      ]
     },
     "execution_count": 3,
     "metadata": {},
     "output_type": "execute_result"
    }
   ],
   "source": [
    "import dotenv\n",
    "import os \n",
    "\n",
    "dotenv.load_dotenv('.env') "
   ]
  }
 ],
 "metadata": {
  "kernelspec": {
   "display_name": ".venv",
   "language": "python",
   "name": "python3"
  },
  "language_info": {
   "codemirror_mode": {
    "name": "ipython",
    "version": 3
   },
   "file_extension": ".py",
   "mimetype": "text/x-python",
   "name": "python",
   "nbconvert_exporter": "python",
   "pygments_lexer": "ipython3",
   "version": "3.13.1"
  }
 },
 "nbformat": 4,
 "nbformat_minor": 5
}
