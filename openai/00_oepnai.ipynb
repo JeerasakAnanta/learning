{
 "cells": [
  {
   "cell_type": "code",
   "execution_count": 18,
   "id": "d880deaf",
   "metadata": {},
   "outputs": [],
   "source": [
    "import os \n",
    "from openai import OpenAI\n",
    "from dotenv import load_dotenv "
   ]
  },
  {
   "cell_type": "code",
   "execution_count": 19,
   "id": "a643efe0",
   "metadata": {},
   "outputs": [],
   "source": [
    "# set load dotenv \n",
    "load_dotenv()\n",
    "openai_api_key = os.getenv(\"OPENAI_API_KEY\")    "
   ]
  },
  {
   "cell_type": "code",
   "execution_count": 20,
   "id": "e1bafcbd",
   "metadata": {},
   "outputs": [],
   "source": [
    "# setup  Openai \n",
    "client = OpenAI(api_key=os.getenv(\"OPENAI_API_KEY\"))"
   ]
  },
  {
   "cell_type": "code",
   "execution_count": 21,
   "id": "f3baed47",
   "metadata": {},
   "outputs": [
    {
     "name": "stdout",
     "output_type": "stream",
     "text": [
      "ในป่าสีรุ้งที่ห่างไกล มียูนิคอร์นตัวหนึ่งชื่อว่า \"น่ารัก\" น่ารักมีขนสีขาวสะอาดตาและมีเขาที่ส่องแสงแวววาว บนเขาของน่ารักมีสีสันหลากหลายเหมือนกับสายรุ้ง\n",
      "\n",
      "ทุกวันน่ารักจะเดินเล่นในป่า พบกับเพื่อนสัตว์ต่างๆ เช่น กระต่ายที่กระโดดโลดเต้นและนกที่ร้องเพลงหวานๆ น่ารักมักจะช่วยเพื่อนๆ เสมอ ไม่ว่าจะเป็นการหาน้ำดื่มหรือตามหาของเล่นที่หายไป\n",
      "\n",
      "คืนหนึ่ง ขณะที่น่ารักกำลังนอนอยู่ใต้ต้นไม้ใหญ่ ท้องฟ้าภายนอกเต็มไปด้วยดาวประกาย น่ารักได้ยินเสียงเรียกของกระต่ายตัวน้อยที่หลงทาง น่ารักจึงตัดสินใจช่วยกระต่ายกลับบ้าน\n",
      "\n",
      "น่ารักใช้แสงจากเขาส่องทางให้กระต่ายไปจนถึงบ้านอย่างปลอดภัย ทุกคนในป่ารู้สึกขอบคุณ และน่ารักรู้สึกดีใจที่ได้ช่วยเพื่อน\n",
      "\n",
      "จากนั้น น่ารักนอนหลับไปพร้อมกับรอยยิ้มบนใบหน้า และในฝันเธอได้เห็นโลกที่สวยงามมีแต่ความสุข อนาคตของน่ารักจะเต็มไปด้วยการผจญภัยและมิตรภาพที่ไม่มีที่สิ้นสุด\n",
      "\n",
      "แล้วทุกคนในป่าก็หลับใหลอย่างมีความสุขใต้แสงดาว ในอ้อมกอดของความรักและมิตรภาพ\n",
      "\n",
      "ราตรีสวัสดิ์นะจ๊ะ \n"
     ]
    }
   ],
   "source": [
    "# create a response \n",
    "response = client.responses.create(\n",
    "    model=\"gpt-4o-mini\",\n",
    "    input=\"Write a short bedtime story about a unicorn. in thai language.\"\n",
    ")\n",
    "\n",
    "# print response \n",
    "print(response.output_text)              "
   ]
  }
 ],
 "metadata": {
  "kernelspec": {
   "display_name": "openai (3.13.3)",
   "language": "python",
   "name": "python3"
  },
  "language_info": {
   "codemirror_mode": {
    "name": "ipython",
    "version": 3
   },
   "file_extension": ".py",
   "mimetype": "text/x-python",
   "name": "python",
   "nbconvert_exporter": "python",
   "pygments_lexer": "ipython3",
   "version": "3.13.3"
  }
 },
 "nbformat": 4,
 "nbformat_minor": 5
}
