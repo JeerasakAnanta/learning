{
 "cells": [
  {
   "cell_type": "code",
   "execution_count": 1,
   "id": "7a7dbf37",
   "metadata": {},
   "outputs": [
    {
     "name": "stdout",
     "output_type": "stream",
     "text": [
      "Package             Version\n",
      "------------------- -------------\n",
      "acme                2.9.0\n",
      "argcomplete         3.1.4\n",
      "attrs               23.2.0\n",
      "Automat             22.10.0\n",
      "Babel               2.10.3\n",
      "bcrypt              3.2.2\n",
      "blinker             1.7.0\n",
      "certbot             2.9.0\n",
      "certifi             2023.11.17\n",
      "chardet             5.2.0\n",
      "click               8.1.6\n",
      "cloud-init          24.4.1\n",
      "colorama            0.4.6\n",
      "command-not-found   0.3\n",
      "ConfigArgParse      1.7\n",
      "configobj           5.0.8\n",
      "constantly          23.10.4\n",
      "cryptography        41.0.7\n",
      "dbus-python         1.3.2\n",
      "distro              1.9.0\n",
      "distro-info         1.7+build1\n",
      "greenlet            3.0.3\n",
      "gyp                 0.1\n",
      "httplib2            0.20.4\n",
      "hyperlink           21.0.0\n",
      "idna                3.6\n",
      "incremental         22.10.0\n",
      "Jinja2              3.1.2\n",
      "josepy              1.14.0\n",
      "jsonpatch           1.32\n",
      "jsonpointer         2.0\n",
      "jsonschema          4.10.3\n",
      "launchpadlib        1.11.0\n",
      "lazr.restfulclient  0.14.6\n",
      "lazr.uri            1.0.6\n",
      "markdown-it-py      3.0.0\n",
      "MarkupSafe          2.1.5\n",
      "mdurl               0.1.2\n",
      "msgpack             1.0.3\n",
      "netifaces           0.11.0\n",
      "oauthlib            3.2.2\n",
      "packaging           24.0\n",
      "parsedatetime       2.6\n",
      "pip                 24.0\n",
      "pipx                1.4.3\n",
      "platformdirs        4.2.0\n",
      "psutil              5.9.8\n",
      "pyasn1              0.4.8\n",
      "pyasn1-modules      0.2.8\n",
      "pycurl              7.45.3\n",
      "Pygments            2.17.2\n",
      "PyGObject           3.48.2\n",
      "PyHamcrest          2.1.0\n",
      "PyICU               2.12\n",
      "PyJWT               2.7.0\n",
      "pynvim              0.5.0\n",
      "pyOpenSSL           23.2.0\n",
      "pyparsing           3.1.1\n",
      "pyRFC3339           1.1\n",
      "pyrsistent          0.20.0\n",
      "pyserial            3.5\n",
      "python-apt          2.7.7+ubuntu4\n",
      "pytz                2024.1\n",
      "PyYAML              6.0.1\n",
      "requests            2.31.0\n",
      "rich                13.7.1\n",
      "s-tui               1.1.6\n",
      "service-identity    24.1.0\n",
      "setuptools          68.1.2\n",
      "six                 1.16.0\n",
      "speedtest-cli       2.1.3\n",
      "systemd-python      235\n",
      "Twisted             24.3.0\n",
      "typing_extensions   4.10.0\n",
      "ubuntu-pro-client   8001\n",
      "ufw                 0.36.2\n",
      "unattended-upgrades 0.1\n",
      "urllib3             2.0.7\n",
      "urwid               2.6.10\n",
      "userpath            1.9.1\n",
      "wadllib             1.3.6\n",
      "wcwidth             0.2.5\n",
      "wheel               0.42.0\n",
      "zope.interface      6.1\n"
     ]
    }
   ],
   "source": [
    "!pip list "
   ]
  },
  {
   "cell_type": "code",
   "execution_count": 2,
   "id": "c173214e",
   "metadata": {},
   "outputs": [
    {
     "name": "stdout",
     "output_type": "stream",
     "text": [
      "Hello World first time witn uv jupyter\n"
     ]
    }
   ],
   "source": [
    "print(\"Hello World first time witn uv jupyter\") "
   ]
  }
 ],
 "metadata": {
  "kernelspec": {
   "display_name": ".venv",
   "language": "python",
   "name": "python3"
  },
  "language_info": {
   "codemirror_mode": {
    "name": "ipython",
    "version": 3
   },
   "file_extension": ".py",
   "mimetype": "text/x-python",
   "name": "python",
   "nbconvert_exporter": "python",
   "pygments_lexer": "ipython3",
   "version": "3.11.11"
  }
 },
 "nbformat": 4,
 "nbformat_minor": 5
}
