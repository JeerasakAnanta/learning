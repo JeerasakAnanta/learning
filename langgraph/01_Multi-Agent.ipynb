{
 "cells": [
  {
   "cell_type": "code",
   "execution_count": 7,
   "id": "18916c11",
   "metadata": {},
   "outputs": [],
   "source": [
    "from dotenv import load_dotenv \n",
    "import os"
   ]
  },
  {
   "cell_type": "code",
   "execution_count": 8,
   "id": "336dff1c",
   "metadata": {},
   "outputs": [
    {
     "data": {
      "text/plain": [
       "False"
      ]
     },
     "execution_count": 8,
     "metadata": {},
     "output_type": "execute_result"
    }
   ],
   "source": [
    "load_dotenv()"
   ]
  },
  {
   "cell_type": "code",
   "execution_count": 9,
   "id": "8b3edf5c",
   "metadata": {},
   "outputs": [],
   "source": [
    "os.environ[\"OPENAI_API_KEY\"] = os.getenv(\"OPENAI_API_KEY\")"
   ]
  },
  {
   "cell_type": "code",
   "execution_count": 14,
   "id": "903cbfc8",
   "metadata": {},
   "outputs": [
    {
     "ename": "ValueError",
     "evalue": "Must provide state_schema or input and output",
     "output_type": "error",
     "traceback": [
      "\u001b[31m---------------------------------------------------------------------------\u001b[39m",
      "\u001b[31mValueError\u001b[39m                                Traceback (most recent call last)",
      "\u001b[36mCell\u001b[39m\u001b[36m \u001b[39m\u001b[32mIn[14]\u001b[39m\u001b[32m, line 24\u001b[39m\n\u001b[32m     21\u001b[39m     \u001b[38;5;28;01mreturn\u001b[39;00m {\u001b[33m\"\u001b[39m\u001b[33mmessages\u001b[39m\u001b[33m\"\u001b[39m: state[\u001b[33m\"\u001b[39m\u001b[33mmessages\u001b[39m\u001b[33m\"\u001b[39m] + [response]}\n\u001b[32m     23\u001b[39m \u001b[38;5;66;03m# Define Graph\u001b[39;00m\n\u001b[32m---> \u001b[39m\u001b[32m24\u001b[39m builder = \u001b[43mStateGraph\u001b[49m\u001b[43m(\u001b[49m\u001b[43m)\u001b[49m\n\u001b[32m     26\u001b[39m \u001b[38;5;66;03m# States\u001b[39;00m\n\u001b[32m     27\u001b[39m builder.add_node(\u001b[33m\"\u001b[39m\u001b[33magent_a\u001b[39m\u001b[33m\"\u001b[39m, RunnableLambda(agent_a_func))\n",
      "\u001b[36mFile \u001b[39m\u001b[32m~/03_Resources/learning/langgraph/.venv/lib/python3.13/site-packages/langgraph/graph/state.py:189\u001b[39m, in \u001b[36mStateGraph.__init__\u001b[39m\u001b[34m(self, state_schema, config_schema, input, output)\u001b[39m\n\u001b[32m    187\u001b[39m \u001b[38;5;28;01mif\u001b[39;00m state_schema \u001b[38;5;129;01mis\u001b[39;00m \u001b[38;5;28;01mNone\u001b[39;00m:\n\u001b[32m    188\u001b[39m     \u001b[38;5;28;01mif\u001b[39;00m \u001b[38;5;28minput\u001b[39m \u001b[38;5;129;01mis\u001b[39;00m \u001b[38;5;28;01mNone\u001b[39;00m \u001b[38;5;129;01mor\u001b[39;00m output \u001b[38;5;129;01mis\u001b[39;00m \u001b[38;5;28;01mNone\u001b[39;00m:\n\u001b[32m--> \u001b[39m\u001b[32m189\u001b[39m         \u001b[38;5;28;01mraise\u001b[39;00m \u001b[38;5;167;01mValueError\u001b[39;00m(\u001b[33m\"\u001b[39m\u001b[33mMust provide state_schema or input and output\u001b[39m\u001b[33m\"\u001b[39m)\n\u001b[32m    190\u001b[39m     state_schema = \u001b[38;5;28minput\u001b[39m\n\u001b[32m    191\u001b[39m     warnings.warn(\n\u001b[32m    192\u001b[39m         \u001b[33m\"\u001b[39m\u001b[33mInitializing StateGraph without state_schema is deprecated. \u001b[39m\u001b[33m\"\u001b[39m\n\u001b[32m    193\u001b[39m         \u001b[33m\"\u001b[39m\u001b[33mPlease pass in an explicit state_schema instead of just an input and output schema.\u001b[39m\u001b[33m\"\u001b[39m,\n\u001b[32m    194\u001b[39m         LangGraphDeprecationWarning,\n\u001b[32m    195\u001b[39m         stacklevel=\u001b[32m2\u001b[39m,\n\u001b[32m    196\u001b[39m     )\n",
      "\u001b[31mValueError\u001b[39m: Must provide state_schema or input and output"
     ]
    }
   ],
   "source": [
    "from langgraph.graph import StateGraph, END\n",
    "from langchain_core.messages import HumanMessage\n",
    "from langchain_core.runnables import RunnableLambda\n",
    "from langchain_openai import ChatOpenAI\n",
    "\n",
    "# Agent A\n",
    "agent_a = ChatOpenAI(model=\"gpt-4o\").bind(system=\"คุณคือ Agent A ช่วยวิเคราะห์ข้อมูล\")\n",
    "\n",
    "# Agent B\n",
    "agent_b = ChatOpenAI(model=\"gpt-4o\").bind(system=\"คุณคือ Agent B ช่วยสรุปข้อมูล\")\n",
    "\n",
    "# Node Function\n",
    "def agent_a_func(state):\n",
    "    msg = state[\"messages\"][-1]\n",
    "    response = agent_a.invoke([msg])\n",
    "    return {\"messages\": state[\"messages\"] + [response]}\n",
    "\n",
    "def agent_b_func(state):\n",
    "    msg = state[\"messages\"][-1]\n",
    "    response = agent_b.invoke([msg])\n",
    "    return {\"messages\": state[\"messages\"] + [response]}\n",
    "\n",
    "# Define Graph\n",
    "builder = StateGraph()\n",
    "\n",
    "# States\n",
    "builder.add_node(\"agent_a\", RunnableLambda(agent_a_func))\n",
    "builder.add_node(\"agent_b\", RunnableLambda(agent_b_func))\n",
    "\n",
    "# Edges\n",
    "builder.set_entry_point(\"agent_a\")\n",
    "builder.add_edge(\"agent_a\", \"agent_b\")\n",
    "builder.add_edge(\"agent_b\", END)\n",
    "\n",
    "graph = builder.compile()\n"
   ]
  },
  {
   "cell_type": "code",
   "execution_count": 12,
   "id": "a442cf0a",
   "metadata": {},
   "outputs": [
    {
     "ename": "NameError",
     "evalue": "name 'graph' is not defined",
     "output_type": "error",
     "traceback": [
      "\u001b[31m---------------------------------------------------------------------------\u001b[39m",
      "\u001b[31mNameError\u001b[39m                                 Traceback (most recent call last)",
      "\u001b[36mCell\u001b[39m\u001b[36m \u001b[39m\u001b[32mIn[12]\u001b[39m\u001b[32m, line 1\u001b[39m\n\u001b[32m----> \u001b[39m\u001b[32m1\u001b[39m output = \u001b[43mgraph\u001b[49m.invoke({\u001b[33m\"\u001b[39m\u001b[33mmessages\u001b[39m\u001b[33m\"\u001b[39m: [HumanMessage(content=\u001b[33m\"\u001b[39m\u001b[33mอธิบายผลลัพธ์ของโมเดล AI\u001b[39m\u001b[33m\"\u001b[39m)]})\n\u001b[32m      2\u001b[39m \u001b[38;5;28;01mfor\u001b[39;00m m \u001b[38;5;129;01min\u001b[39;00m output[\u001b[33m\"\u001b[39m\u001b[33mmessages\u001b[39m\u001b[33m\"\u001b[39m]:\n\u001b[32m      3\u001b[39m     \u001b[38;5;28mprint\u001b[39m(m.content)\n",
      "\u001b[31mNameError\u001b[39m: name 'graph' is not defined"
     ]
    }
   ],
   "source": [
    "output = graph.invoke({\"messages\": [HumanMessage(content=\"อธิบายผลลัพธ์ของโมเดล AI\")]})\n",
    "for m in output[\"messages\"]:\n",
    "    print(m.content)\n"
   ]
  }
 ],
 "metadata": {
  "kernelspec": {
   "display_name": ".venv",
   "language": "python",
   "name": "python3"
  },
  "language_info": {
   "codemirror_mode": {
    "name": "ipython",
    "version": 3
   },
   "file_extension": ".py",
   "mimetype": "text/x-python",
   "name": "python",
   "nbconvert_exporter": "python",
   "pygments_lexer": "ipython3",
   "version": "3.13.3"
  }
 },
 "nbformat": 4,
 "nbformat_minor": 5
}
